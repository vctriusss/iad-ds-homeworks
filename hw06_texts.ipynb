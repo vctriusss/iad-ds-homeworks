{
  "cells": [
    {
      "attachments": {},
      "cell_type": "markdown",
      "metadata": {
        "id": "xrvOD02o3HvH"
      },
      "source": [
        "# Домашнее задание 6: классификация текстов"
      ]
    },
    {
      "attachments": {},
      "cell_type": "markdown",
      "metadata": {
        "id": "sxwj_Iie3HvJ"
      },
      "source": [
        "В этом домашнем задании вам предстоит построить классификатор текстов!\n",
        "\n",
        "Данные мы будем использовать из Kaggle соревнования: https://www.kaggle.com/competitions/nlp-getting-started/data \n",
        "\n",
        "\n",
        "Оттуда надо скачать файл train.csv. На обучающую и тестовую выборки его поделим кодом ниже, менять его не надо!"
      ]
    },
    {
      "attachments": {},
      "cell_type": "markdown",
      "metadata": {
        "id": "qQVgqLg93HvJ"
      },
      "source": [
        "Мы будем работать с датасетом постов из твиттера. Нам предстоит решать задачу бинарной классификации - определять содержатся ли в твитте информация о настоящей катастрофе/инциденте или нет."
      ]
    },
    {
      "cell_type": "code",
      "execution_count": 34,
      "metadata": {
        "id": "TcjEYh7R3HvK"
      },
      "outputs": [],
      "source": [
        "import numpy as np\n",
        "import pandas as pd\n",
        "from typing import List, Tuple, Iterable\n",
        "import matplotlib.pyplot as plt\n",
        "import seaborn as sns\n",
        "from string import punctuation"
      ]
    },
    {
      "attachments": {},
      "cell_type": "markdown",
      "metadata": {},
      "source": [
        "Ворнинги уже задолбали, поэтому оффнем их"
      ]
    },
    {
      "cell_type": "code",
      "execution_count": 35,
      "metadata": {},
      "outputs": [],
      "source": [
        "import warnings\n",
        "\n",
        "warnings.filterwarnings(\"ignore\")"
      ]
    },
    {
      "cell_type": "code",
      "execution_count": 36,
      "metadata": {
        "id": "mjwffGiB3HvK"
      },
      "outputs": [],
      "source": [
        "data = pd.read_csv('train.csv')"
      ]
    },
    {
      "cell_type": "code",
      "execution_count": 37,
      "metadata": {
        "colab": {
          "base_uri": "https://localhost:8080/",
          "height": 206
        },
        "id": "v0uUoFTN3HvK",
        "outputId": "0d37d677-a00d-449c-8f86-6f85dce2ef4a"
      },
      "outputs": [
        {
          "data": {
            "text/html": [
              "<div>\n",
              "<style scoped>\n",
              "    .dataframe tbody tr th:only-of-type {\n",
              "        vertical-align: middle;\n",
              "    }\n",
              "\n",
              "    .dataframe tbody tr th {\n",
              "        vertical-align: top;\n",
              "    }\n",
              "\n",
              "    .dataframe thead th {\n",
              "        text-align: right;\n",
              "    }\n",
              "</style>\n",
              "<table border=\"1\" class=\"dataframe\">\n",
              "  <thead>\n",
              "    <tr style=\"text-align: right;\">\n",
              "      <th></th>\n",
              "      <th>id</th>\n",
              "      <th>keyword</th>\n",
              "      <th>location</th>\n",
              "      <th>text</th>\n",
              "      <th>target</th>\n",
              "    </tr>\n",
              "  </thead>\n",
              "  <tbody>\n",
              "    <tr>\n",
              "      <th>0</th>\n",
              "      <td>1</td>\n",
              "      <td>NaN</td>\n",
              "      <td>NaN</td>\n",
              "      <td>Our Deeds are the Reason of this #earthquake M...</td>\n",
              "      <td>1</td>\n",
              "    </tr>\n",
              "    <tr>\n",
              "      <th>1</th>\n",
              "      <td>4</td>\n",
              "      <td>NaN</td>\n",
              "      <td>NaN</td>\n",
              "      <td>Forest fire near La Ronge Sask. Canada</td>\n",
              "      <td>1</td>\n",
              "    </tr>\n",
              "    <tr>\n",
              "      <th>2</th>\n",
              "      <td>5</td>\n",
              "      <td>NaN</td>\n",
              "      <td>NaN</td>\n",
              "      <td>All residents asked to 'shelter in place' are ...</td>\n",
              "      <td>1</td>\n",
              "    </tr>\n",
              "    <tr>\n",
              "      <th>3</th>\n",
              "      <td>6</td>\n",
              "      <td>NaN</td>\n",
              "      <td>NaN</td>\n",
              "      <td>13,000 people receive #wildfires evacuation or...</td>\n",
              "      <td>1</td>\n",
              "    </tr>\n",
              "    <tr>\n",
              "      <th>4</th>\n",
              "      <td>7</td>\n",
              "      <td>NaN</td>\n",
              "      <td>NaN</td>\n",
              "      <td>Just got sent this photo from Ruby #Alaska as ...</td>\n",
              "      <td>1</td>\n",
              "    </tr>\n",
              "  </tbody>\n",
              "</table>\n",
              "</div>"
            ],
            "text/plain": [
              "   id keyword location                                               text  \\\n",
              "0   1     NaN      NaN  Our Deeds are the Reason of this #earthquake M...   \n",
              "1   4     NaN      NaN             Forest fire near La Ronge Sask. Canada   \n",
              "2   5     NaN      NaN  All residents asked to 'shelter in place' are ...   \n",
              "3   6     NaN      NaN  13,000 people receive #wildfires evacuation or...   \n",
              "4   7     NaN      NaN  Just got sent this photo from Ruby #Alaska as ...   \n",
              "\n",
              "   target  \n",
              "0       1  \n",
              "1       1  \n",
              "2       1  \n",
              "3       1  \n",
              "4       1  "
            ]
          },
          "execution_count": 37,
          "metadata": {},
          "output_type": "execute_result"
        }
      ],
      "source": [
        "data.head()"
      ]
    },
    {
      "cell_type": "code",
      "execution_count": 38,
      "metadata": {
        "id": "f49NdWY23HvL"
      },
      "outputs": [],
      "source": [
        "from sklearn.model_selection import train_test_split\n",
        "\n",
        "train, test = train_test_split(data, test_size=0.3, random_state=42)"
      ]
    },
    {
      "attachments": {},
      "cell_type": "markdown",
      "metadata": {
        "id": "YlLemInT3HvL"
      },
      "source": [
        "## Задание 1 (0.5 балла)\n",
        "\n",
        "Выведете на экран информацию о пропусках в данных. Если пропуски присутствуют заполните их пустой строкой."
      ]
    },
    {
      "cell_type": "code",
      "execution_count": 39,
      "metadata": {
        "id": "96aJxmkV4105"
      },
      "outputs": [
        {
          "data": {
            "text/plain": [
              "keyword       61\n",
              "location    2533\n",
              "dtype: int64"
            ]
          },
          "execution_count": 39,
          "metadata": {},
          "output_type": "execute_result"
        }
      ],
      "source": [
        "na = data.shape[0] - data.count()\n",
        "na[na > 0]"
      ]
    },
    {
      "cell_type": "code",
      "execution_count": 40,
      "metadata": {},
      "outputs": [
        {
          "data": {
            "text/plain": [
              "id           int64\n",
              "keyword     object\n",
              "location    object\n",
              "text        object\n",
              "target       int64\n",
              "dtype: object"
            ]
          },
          "execution_count": 40,
          "metadata": {},
          "output_type": "execute_result"
        }
      ],
      "source": [
        "data.dtypes"
      ]
    },
    {
      "attachments": {},
      "cell_type": "markdown",
      "metadata": {},
      "source": [
        "Видим, что есть пропуски в колонках `keyword, location`, обе - типа object , причем в `location` их довольно много (треть датасета). Заполним их по заданию - пустыми строчками"
      ]
    },
    {
      "cell_type": "code",
      "execution_count": 41,
      "metadata": {},
      "outputs": [
        {
          "name": "stdout",
          "output_type": "stream",
          "text": [
            "False\n"
          ]
        },
        {
          "data": {
            "text/html": [
              "<div>\n",
              "<style scoped>\n",
              "    .dataframe tbody tr th:only-of-type {\n",
              "        vertical-align: middle;\n",
              "    }\n",
              "\n",
              "    .dataframe tbody tr th {\n",
              "        vertical-align: top;\n",
              "    }\n",
              "\n",
              "    .dataframe thead th {\n",
              "        text-align: right;\n",
              "    }\n",
              "</style>\n",
              "<table border=\"1\" class=\"dataframe\">\n",
              "  <thead>\n",
              "    <tr style=\"text-align: right;\">\n",
              "      <th></th>\n",
              "      <th>id</th>\n",
              "      <th>keyword</th>\n",
              "      <th>location</th>\n",
              "      <th>text</th>\n",
              "      <th>target</th>\n",
              "    </tr>\n",
              "  </thead>\n",
              "  <tbody>\n",
              "    <tr>\n",
              "      <th>0</th>\n",
              "      <td>1</td>\n",
              "      <td></td>\n",
              "      <td></td>\n",
              "      <td>Our Deeds are the Reason of this #earthquake M...</td>\n",
              "      <td>1</td>\n",
              "    </tr>\n",
              "    <tr>\n",
              "      <th>1</th>\n",
              "      <td>4</td>\n",
              "      <td></td>\n",
              "      <td></td>\n",
              "      <td>Forest fire near La Ronge Sask. Canada</td>\n",
              "      <td>1</td>\n",
              "    </tr>\n",
              "    <tr>\n",
              "      <th>2</th>\n",
              "      <td>5</td>\n",
              "      <td></td>\n",
              "      <td></td>\n",
              "      <td>All residents asked to 'shelter in place' are ...</td>\n",
              "      <td>1</td>\n",
              "    </tr>\n",
              "    <tr>\n",
              "      <th>3</th>\n",
              "      <td>6</td>\n",
              "      <td></td>\n",
              "      <td></td>\n",
              "      <td>13,000 people receive #wildfires evacuation or...</td>\n",
              "      <td>1</td>\n",
              "    </tr>\n",
              "    <tr>\n",
              "      <th>4</th>\n",
              "      <td>7</td>\n",
              "      <td></td>\n",
              "      <td></td>\n",
              "      <td>Just got sent this photo from Ruby #Alaska as ...</td>\n",
              "      <td>1</td>\n",
              "    </tr>\n",
              "  </tbody>\n",
              "</table>\n",
              "</div>"
            ],
            "text/plain": [
              "   id keyword location                                               text  \\\n",
              "0   1                   Our Deeds are the Reason of this #earthquake M...   \n",
              "1   4                              Forest fire near La Ronge Sask. Canada   \n",
              "2   5                   All residents asked to 'shelter in place' are ...   \n",
              "3   6                   13,000 people receive #wildfires evacuation or...   \n",
              "4   7                   Just got sent this photo from Ruby #Alaska as ...   \n",
              "\n",
              "   target  \n",
              "0       1  \n",
              "1       1  \n",
              "2       1  \n",
              "3       1  \n",
              "4       1  "
            ]
          },
          "execution_count": 41,
          "metadata": {},
          "output_type": "execute_result"
        }
      ],
      "source": [
        "data = data.fillna('')\n",
        "print(data.isna().any().any())\n",
        "data.head()"
      ]
    },
    {
      "attachments": {},
      "cell_type": "markdown",
      "metadata": {
        "id": "A8CPBUal3HvL"
      },
      "source": [
        "## Задание 2 (1 балл)\n",
        "Давайте немного посмотрим на наши данные. Визуализируйте (где явно просят) или выведете информацию о следующем:\n",
        "\n",
        "1. Какое распределение классов в обучающей выборке?\n"
      ]
    },
    {
      "cell_type": "code",
      "execution_count": 42,
      "metadata": {
        "id": "WvJ_EU9o5BGm"
      },
      "outputs": [
        {
          "data": {
            "image/png": "[encoded data removed]",
            "text/plain": [
              "<Figure size 640x480 with 1 Axes>"
            ]
          },
          "metadata": {},
          "output_type": "display_data"
        }
      ],
      "source": [
        "plt.title('Class distribution')\n",
        "plt.pie(train['target'].value_counts(), labels=['Fake (0)', 'True (1)'], autopct='%0.0f%%')\n",
        "plt.show()"
      ]
    },
    {
      "attachments": {},
      "cell_type": "markdown",
      "metadata": {},
      "source": [
        "Видно, что текстов (твитов) относительно целевой переменной примерно поровну (57% / 43% фейковых/настоящих твитов, если быть ~~точным~~ душным). Датасет в этом плане оч хороший "
      ]
    },
    {
      "attachments": {},
      "cell_type": "markdown",
      "metadata": {
        "id": "f08KScbP5q2y"
      },
      "source": [
        "2. Посмотрите на колонку \"keyword\" - возьмите 10 наиболее встречающихся значений, постройте ступенчатую диаграмму распределения классов в зависимости от значения keyword, сделайте выводы."
      ]
    },
    {
      "attachments": {},
      "cell_type": "markdown",
      "metadata": {},
      "source": [
        "Так и не понял проверять это на всей выборке или только обучающей. В поточке делал кто как, но я решил приблизиться (хотя бы по словам) к идеальному графику в исходном условии. Это получилось сделать используя `train`\n",
        "\n",
        "Если это надо было делать для `data`, то в целом все аналогично, просто слова получаются чуть другие"
      ]
    },
    {
      "cell_type": "code",
      "execution_count": 51,
      "metadata": {},
      "outputs": [
        {
          "data": {
            "text/plain": [
              "Index(['damage', 'siren', 'wreckage', 'fatalities', 'deluge', 'twister',\n",
              "       'fatality', 'harm', 'emergency', 'nuclear%20reactor'],\n",
              "      dtype='object')"
            ]
          },
          "execution_count": 51,
          "metadata": {},
          "output_type": "execute_result"
        }
      ],
      "source": [
        "top10 = train[train['keyword'] != '']['keyword'].value_counts()[:10].index\n",
        "top10"
      ]
    },
    {
      "attachments": {},
      "cell_type": "markdown",
      "metadata": {},
      "source": [
        "Теперь создадим датафрейм где ключевое слово - из топ 10 популярных"
      ]
    },
    {
      "cell_type": "code",
      "execution_count": 52,
      "metadata": {},
      "outputs": [],
      "source": [
        "data_popular = train[train['keyword'].isin(top10)][['keyword', 'target']]"
      ]
    },
    {
      "cell_type": "code",
      "execution_count": 53,
      "metadata": {},
      "outputs": [
        {
          "data": {
            "image/png": "[encoded data removed]",
            "text/plain": [
              "<Figure size 1500x600 with 1 Axes>"
            ]
          },
          "metadata": {},
          "output_type": "display_data"
        }
      ],
      "source": [
        "plt.figure(figsize=(15, 6))\n",
        "plt.title('Distribution of tweets with 10 most popular keywords')\n",
        "\n",
        "sns.histplot(data_popular, x='keyword', hue='target', palette='bright', element='step')\n",
        "\n",
        "plt.show()"
      ]
    },
    {
      "attachments": {},
      "cell_type": "markdown",
      "metadata": {},
      "source": [
        "**Выводы**:\n",
        "\n",
        "1) Можно заметить, что фейковых твитов здесь сильно больше, только в 1 из 10 случаев, а именно для ключевого слова *wreckage*, правдивых твитов больше\n",
        "\n",
        "2) Значительное превалирование фейков видно у совсем кликбейтных и броских слов по типу *twister, harm, deluge*. А если твит содержит слово *wreckage*, то почти гарантированно он правдивый\n",
        "\n",
        "3) Примерно одинаковое распределение для стандартных и не таких броских слов, а именно *damage, fatalities*"
      ]
    },
    {
      "attachments": {},
      "cell_type": "markdown",
      "metadata": {
        "id": "c006nNBP3HvM"
      },
      "source": [
        "## Задание 3 (0.5 балла) \n",
        "\n",
        "В этом задании предлагается объединить все три текстовых столбца в один (просто сконкатенировать cтроки) и убрать столбец с индексом."
      ]
    },
    {
      "cell_type": "code",
      "execution_count": 23,
      "metadata": {
        "colab": {
          "base_uri": "https://localhost:8080/",
          "height": 143
        },
        "id": "GdF9gFmL-c0r",
        "outputId": "ebe008b7-4d0e-4bc2-89f3-60a575c1b1fd"
      },
      "outputs": [
        {
          "data": {
            "text/html": [
              "<div>\n",
              "<style scoped>\n",
              "    .dataframe tbody tr th:only-of-type {\n",
              "        vertical-align: middle;\n",
              "    }\n",
              "\n",
              "    .dataframe tbody tr th {\n",
              "        vertical-align: top;\n",
              "    }\n",
              "\n",
              "    .dataframe thead th {\n",
              "        text-align: right;\n",
              "    }\n",
              "</style>\n",
              "<table border=\"1\" class=\"dataframe\">\n",
              "  <thead>\n",
              "    <tr style=\"text-align: right;\">\n",
              "      <th></th>\n",
              "      <th>id</th>\n",
              "      <th>keyword</th>\n",
              "      <th>location</th>\n",
              "      <th>text</th>\n",
              "      <th>target</th>\n",
              "    </tr>\n",
              "  </thead>\n",
              "  <tbody>\n",
              "    <tr>\n",
              "      <th>6590</th>\n",
              "      <td>9436</td>\n",
              "      <td>survivors</td>\n",
              "      <td>Marietta, GA</td>\n",
              "      <td>Stemming from my #Cubs talk- the team rosters ...</td>\n",
              "      <td>1</td>\n",
              "    </tr>\n",
              "    <tr>\n",
              "      <th>7122</th>\n",
              "      <td>10203</td>\n",
              "      <td>violent%20storm</td>\n",
              "      <td>NaN</td>\n",
              "      <td>If you were the NWS wth a rotating storm w/ a ...</td>\n",
              "      <td>1</td>\n",
              "    </tr>\n",
              "    <tr>\n",
              "      <th>2769</th>\n",
              "      <td>3980</td>\n",
              "      <td>devastation</td>\n",
              "      <td>Atlanta g.a.</td>\n",
              "      <td>http://t.co/Gxgm1T3W0J From Devastation to Ela...</td>\n",
              "      <td>0</td>\n",
              "    </tr>\n",
              "  </tbody>\n",
              "</table>\n",
              "</div>"
            ],
            "text/plain": [
              "         id          keyword      location  \\\n",
              "6590   9436        survivors  Marietta, GA   \n",
              "7122  10203  violent%20storm           NaN   \n",
              "2769   3980      devastation  Atlanta g.a.   \n",
              "\n",
              "                                                   text  target  \n",
              "6590  Stemming from my #Cubs talk- the team rosters ...       1  \n",
              "7122  If you were the NWS wth a rotating storm w/ a ...       1  \n",
              "2769  http://t.co/Gxgm1T3W0J From Devastation to Ela...       0  "
            ]
          },
          "execution_count": 23,
          "metadata": {},
          "output_type": "execute_result"
        }
      ],
      "source": [
        "train.loc[[6590, 7122, 2769]]"
      ]
    },
    {
      "attachments": {},
      "cell_type": "markdown",
      "metadata": {},
      "source": [
        "Почему мы делили выборку на тестовую и тренировочную до заполнения пропусков и склеивания столбцов это конечно очень интересный вопрос...\n",
        "\n",
        "Поэтому оберну это в функцию чтобы потом применить и на тесте"
      ]
    },
    {
      "cell_type": "code",
      "execution_count": 24,
      "metadata": {},
      "outputs": [],
      "source": [
        "def fill_and_conc(df: pd.DataFrame) -> pd.DataFrame:\n",
        "    df_new = df.drop('id', axis=1).fillna('')\n",
        "\n",
        "    df_new['text'] = df_new['keyword'] + ' ' + df_new['location'] + ' ' + df_new['text']\n",
        "    return df_new.drop(['keyword', 'location'], axis=1)"
      ]
    },
    {
      "cell_type": "code",
      "execution_count": 25,
      "metadata": {
        "id": "lwwJKX_l-eoh"
      },
      "outputs": [],
      "source": [
        "train_new = fill_and_conc(train)"
      ]
    },
    {
      "cell_type": "code",
      "execution_count": 26,
      "metadata": {
        "colab": {
          "base_uri": "https://localhost:8080/",
          "height": 143
        },
        "id": "jk7P70XX_CpT",
        "outputId": "5cf01b29-8ada-46d7-f7ee-74e7aed37996"
      },
      "outputs": [
        {
          "data": {
            "text/html": [
              "<div>\n",
              "<style scoped>\n",
              "    .dataframe tbody tr th:only-of-type {\n",
              "        vertical-align: middle;\n",
              "    }\n",
              "\n",
              "    .dataframe tbody tr th {\n",
              "        vertical-align: top;\n",
              "    }\n",
              "\n",
              "    .dataframe thead th {\n",
              "        text-align: right;\n",
              "    }\n",
              "</style>\n",
              "<table border=\"1\" class=\"dataframe\">\n",
              "  <thead>\n",
              "    <tr style=\"text-align: right;\">\n",
              "      <th></th>\n",
              "      <th>text</th>\n",
              "      <th>target</th>\n",
              "    </tr>\n",
              "  </thead>\n",
              "  <tbody>\n",
              "    <tr>\n",
              "      <th>6590</th>\n",
              "      <td>survivors Marietta, GA Stemming from my #Cubs ...</td>\n",
              "      <td>1</td>\n",
              "    </tr>\n",
              "    <tr>\n",
              "      <th>7122</th>\n",
              "      <td>violent%20storm  If you were the NWS wth a rot...</td>\n",
              "      <td>1</td>\n",
              "    </tr>\n",
              "    <tr>\n",
              "      <th>2769</th>\n",
              "      <td>devastation Atlanta g.a. http://t.co/Gxgm1T3W0...</td>\n",
              "      <td>0</td>\n",
              "    </tr>\n",
              "  </tbody>\n",
              "</table>\n",
              "</div>"
            ],
            "text/plain": [
              "                                                   text  target\n",
              "6590  survivors Marietta, GA Stemming from my #Cubs ...       1\n",
              "7122  violent%20storm  If you were the NWS wth a rot...       1\n",
              "2769  devastation Atlanta g.a. http://t.co/Gxgm1T3W0...       0"
            ]
          },
          "execution_count": 26,
          "metadata": {},
          "output_type": "execute_result"
        }
      ],
      "source": [
        "train_new.loc[[6590, 7122, 2769]]"
      ]
    },
    {
      "attachments": {},
      "cell_type": "markdown",
      "metadata": {
        "id": "ViXdGTxP3HvM"
      },
      "source": [
        "## Задание 4 (0.5 балла)\n",
        "\n",
        "Далее мы будем пока работать только с train частью.\n",
        "\n",
        "1. Предобработайте данные (train часть) с помощью CountVectorizer.\n",
        "2. Какого размера получилась матрица?\n"
      ]
    },
    {
      "cell_type": "code",
      "execution_count": 27,
      "metadata": {
        "id": "oB1MTqUVAbPA"
      },
      "outputs": [
        {
          "data": {
            "text/plain": [
              "(5329, 18455)"
            ]
          },
          "execution_count": 27,
          "metadata": {},
          "output_type": "execute_result"
        }
      ],
      "source": [
        "from sklearn.feature_extraction.text import CountVectorizer\n",
        "\n",
        "cnt_vec = CountVectorizer()\n",
        "\n",
        "tokens = cnt_vec.fit_transform(train_new['text'])\n",
        "tokens.shape"
      ]
    },
    {
      "attachments": {},
      "cell_type": "markdown",
      "metadata": {},
      "source": [
        "Размер матрицы довольно большой (получили около 18к токенов), но для NLP это еще лайтово\n",
        "\n",
        "Cамих текстов же 5329"
      ]
    },
    {
      "attachments": {},
      "cell_type": "markdown",
      "metadata": {
        "id": "A4waLlnC3HvM"
      },
      "source": [
        "## Задание 5 (1 балл)\n",
        "\n",
        "В предыдущем пункте у вас должна была получиться достаточно большая матрица.\n",
        "Если вы взгляните на текст, то увидете, что там есть множество специальных символов, ссылок и прочего мусора.\n",
        "\n",
        "Давайте также посмотрим на словарь, который получился в результате построения CountVectorizer, его можно найти в поле vocabulary_ инстанса этого класса. Давайте напишем функцию, которая печает ответы на следующие вопросы:\n",
        "\n",
        "1. Найдите в этом словаре все слова, которые содержат цифры. Сколько таких слов нашлось?\n",
        "\n",
        "2. Найдите все слова, которые содержат символы пунктуации. Сколько таких слов нашлось? \n",
        "\n",
        "3. Сколько хэштегов (токен начинается на #) и упоминаний (токен начинается на @) осталось в словаре?"
      ]
    },
    {
      "cell_type": "code",
      "execution_count": 28,
      "metadata": {
        "id": "7PhQSWqcHhU8"
      },
      "outputs": [],
      "source": [
        "import re\n",
        "\n",
        "def contains_digit(s: str) -> bool:\n",
        "    # Проверка, содержит ли слово цифры\n",
        "    return not not re.search(r'\\d', s)\n",
        "\n",
        "def contains_punctuation(s: str) -> bool:\n",
        "    # Проверка, содержит ли слово пунктуацию\n",
        "    return not not re.search(rf'[{punctuation}]', s)\n",
        "\n",
        "def is_hashtag(s: str) -> bool:\n",
        "    # Проверка, является ли слово хэштегом\n",
        "    return not not re.search(r'^#.+', s)\n",
        "\n",
        "def is_mention(s: str) -> bool:\n",
        "    # Проверка, является ли слово упоминанием\n",
        "    return not not re.search(r'^@.+', s)\n",
        "\n",
        "def investigate_vocabulary(vocabulary):\n",
        "    keys = vocabulary.keys()\n",
        "    print('With digit:      ', sum(map(contains_digit, keys))\n",
        "          )\n",
        "    print('With punctuation:', sum(map(contains_punctuation, keys))\n",
        "          )\n",
        "    print('Hashtags:        ', sum(map(is_hashtag, keys))\n",
        "          )\n",
        "    print('Mentions:        ', sum(map(is_mention, keys))\n",
        "          )\n",
        "    "
      ]
    },
    {
      "attachments": {},
      "cell_type": "markdown",
      "metadata": {},
      "source": [
        "Теперь пояснения :)\n",
        "- Регулярки это как наиболее правильный спобоб, никаких брутфорсов по крайней мере\n",
        "- `not not` вместо `bool()` хорошо поясняется в видосе mCoding (если вкратце - это быстрее, потому что вызов функции - дорогая операция). Но на самом деле это оч спорная тема\n",
        "- делать `lstrip()` вроде необязательно (для проверки # и @), потому что `CountVectorizer` убирает все пробелы из токенов \n",
        "- использовал стандартные питоновские функции `sum` и `map`, потому что нампай массивы работают только с чиселками"
      ]
    },
    {
      "cell_type": "code",
      "execution_count": 29,
      "metadata": {
        "colab": {
          "base_uri": "https://localhost:8080/"
        },
        "id": "s8hL5ZcQIdp6",
        "outputId": "c8b50455-38f2-455d-c9f6-96b03a7e09ce"
      },
      "outputs": [
        {
          "name": "stdout",
          "output_type": "stream",
          "text": [
            "With digit:       2\n",
            "With punctuation: 7\n",
            "Hashtags:         1\n",
            "Mentions:         3\n"
          ]
        }
      ],
      "source": [
        "dummy_vocab = {'th1nk' : 0,\n",
        "               'think333' : 1,\n",
        "               'think.' : 2,\n",
        "               'th!nk' : 3,\n",
        "               'th...nk' : 4,\n",
        "               '#think' : 5,\n",
        "               '@think' : 6,\n",
        "               '@thinking':7,\n",
        "               '@nothink' : 8,\n",
        "               'think' : 9}\n",
        "investigate_vocabulary(dummy_vocab)"
      ]
    },
    {
      "cell_type": "code",
      "execution_count": 30,
      "metadata": {
        "id": "VpW8R_SuKR_l"
      },
      "outputs": [
        {
          "name": "stdout",
          "output_type": "stream",
          "text": [
            "With digit:       3812\n",
            "With punctuation: 315\n",
            "Hashtags:         0\n",
            "Mentions:         0\n"
          ]
        }
      ],
      "source": [
        "investigate_vocabulary(cnt_vec.vocabulary_)"
      ]
    },
    {
      "attachments": {},
      "cell_type": "markdown",
      "metadata": {},
      "source": [
        "Видим, что слов с хэштегами и упоминаниями нет (наверное потому что у `CountVectorizer` под капотом примитивный токенайзер). Поэтому выведем только сообщения, содержащие цифры и знаки препинания. Если нужно сделать так и для других условий, нужно просто подставить нужную функцию фильтра"
      ]
    },
    {
      "cell_type": "code",
      "execution_count": 31,
      "metadata": {},
      "outputs": [
        {
          "name": "stdout",
          "output_type": "stream",
          "text": [
            "['20collapse', '2015', '60', 't5trhjuau0', 'b1g', 'bmurph1019', 'termn8r13', 'oaskgki6qj', 'di8elzswnr', '20accident']\n",
            "['hail_youtsey', 'û_', '_gaabyx', 'early__may', 'til_now', 'marc_holl', 'mathew_is_angry', 'z3ke_sk1', 'derailed_benchmark', 'chubbysquirrel_']\n"
          ]
        }
      ],
      "source": [
        "msg_with_dig = list(filter(contains_digit, cnt_vec.vocabulary_))\n",
        "msg_with_punc = list(filter(contains_punctuation, cnt_vec.vocabulary_))\n",
        "print(msg_with_dig[:10])\n",
        "print(msg_with_punc[:10])"
      ]
    },
    {
      "attachments": {},
      "cell_type": "markdown",
      "metadata": {},
      "source": [
        "Видим, что к пунктуации относятся нижние подчеркивания. Если же их не брать в расчет, то можно убедиться, что других знаков пунктуации нет"
      ]
    },
    {
      "attachments": {},
      "cell_type": "markdown",
      "metadata": {
        "id": "bfNLaxX93HvM"
      },
      "source": [
        "## Задание 6 (0.5 балла)\n",
        "\n",
        "Вспомним, что на семинаре по текстам мы узнали, что в nltk есть специальный токенизатор для текстов - TweetTokenizer. Попробуем применить CountVectorizer с этим токенизатором. Ответьте на все вопросы из предыдущего пункта для TweetTokenizer и сравните результаты."
      ]
    },
    {
      "cell_type": "code",
      "execution_count": 32,
      "metadata": {
        "id": "xnlRoXUS3HvM"
      },
      "outputs": [],
      "source": [
        "from nltk.tokenize import TweetTokenizer\n",
        "# Чтобы узнать, какие параметры есть у этого токенайзера - используйте help(TweetTokenizer)\n",
        "# Для того, чтобы передать токенайзер в CountVectorizer используйте параметр tokenizer\n",
        "\n",
        "\n",
        "def tokenizer(text: str) -> List[str]:\n",
        "    return TweetTokenizer().tokenize(text)"
      ]
    },
    {
      "cell_type": "code",
      "execution_count": 33,
      "metadata": {
        "id": "8lPMIf6UKccT"
      },
      "outputs": [
        {
          "data": {
            "text/plain": [
              "['bridge',\n",
              " '%',\n",
              " '20collapse',\n",
              " 'ashes',\n",
              " '2015',\n",
              " ':',\n",
              " 'australia',\n",
              " '\\x89',\n",
              " 'ûªs',\n",
              " 'collapse',\n",
              " 'at',\n",
              " 'trent',\n",
              " 'among',\n",
              " 'worst',\n",
              " 'in',\n",
              " 'history',\n",
              " 'england',\n",
              " 'bundled',\n",
              " 'out',\n",
              " 'for']"
            ]
          },
          "execution_count": 33,
          "metadata": {},
          "output_type": "execute_result"
        }
      ],
      "source": [
        "cnt_vec2 = CountVectorizer(tokenizer=tokenizer)\n",
        "toks = cnt_vec2.fit_transform(train_new['text'])\n",
        "\n",
        "list(cnt_vec2.vocabulary_.keys())[:20]"
      ]
    },
    {
      "cell_type": "code",
      "execution_count": 34,
      "metadata": {
        "id": "7oR5kNKVLLpm"
      },
      "outputs": [
        {
          "name": "stdout",
          "output_type": "stream",
          "text": [
            "With digit:       3939\n",
            "With punctuation: 7337\n",
            "Hashtags:         1469\n",
            "Mentions:         1678\n"
          ]
        }
      ],
      "source": [
        "investigate_vocabulary(cnt_vec2.vocabulary_)"
      ]
    },
    {
      "attachments": {},
      "cell_type": "markdown",
      "metadata": {
        "id": "Wetr80-ILULV"
      },
      "source": [
        "**Сравнение:**\n",
        "\n",
        "Теперь мы видим, что токенов стало прям сильно больше. Число токенов с цифрами увеличилось почти незаметно, но остальных прям сильно больше. \n",
        "\n",
        "Хештегов и упоминаний стало больше, потому что справедливости ради под это `TweetTokenizer` и заточен\n",
        "\n",
        "А если говорить о пунктуации, то:\n",
        "- хэштеги и упоминания - подмножества пунктуации (видно если вывести `string.punctuation`)\n",
        "- дефолтный токенайзер по-видимому сильно чистит пунктуацию, но `TweetTokenizer`, к примеру, оставляет ссылки целиком, да и в целом не такой жесткий (в токенах можно найти `!`, `&` и.т.п) "
      ]
    },
    {
      "attachments": {},
      "cell_type": "markdown",
      "metadata": {
        "id": "6_k_-i1x3HvM"
      },
      "source": [
        "## Задание 7 (2 балла)\n",
        "\n",
        "В scikit-learn мы можем оценивать процесс подсчета матрицы через CountVectorizer. У CountVectorizer, как и у других наследников \\_VectorizerMixin, есть аргумент tokenizer и preprocessor. preprocessor применится в самом начале к каждой строке вашего датасета, tokenizer же должен принять строку и вернуть токены.\n",
        "Давайте напишем кастомный токенайзер, которые сделает все, что нам нужно: \n",
        "\n",
        "0. Приведет все буквы к нижнему регистру\n",
        "1. Разобьет текст на токены с помощью TweetTokenizer из пакета nltk\n",
        "2. Удалит все токены содержащие не латинские буквы, кроме смайликов (будем считать ими токены содержащие только пунктуацию и, как минимум, одну скобочку) и хэштегов, которые после начальной # содержат только латинские буквы.\n",
        "3. Удалит все токены, которые перечислены в nltk.corpus.stopwords.words('english')\n",
        "4. Проведет стемминг с помощью SnowballStemmer\n",
        "\n"
      ]
    },
    {
      "cell_type": "code",
      "execution_count": 35,
      "metadata": {},
      "outputs": [],
      "source": [
        "import nltk\n",
        "from nltk.corpus import stopwords\n",
        "from nltk.stem.snowball import SnowballStemmer\n",
        "\n",
        "# nltk.download('stopwords');"
      ]
    },
    {
      "cell_type": "code",
      "execution_count": 36,
      "metadata": {
        "id": "qhwmi7DEMD25"
      },
      "outputs": [],
      "source": [
        "def contains_only_latin_letters(s: str) -> bool:\n",
        "    # Проверка, содержит ли слово только латинские буквы\n",
        "    return not not re.search(r'^[a-zA-Z]+$', s)\n",
        "\n",
        "def is_emoji(s: str) -> bool:\n",
        "    # Проверка, является ли слово смайликом\n",
        "    return not not re.search(rf'^[{punctuation}]*[()]+[{punctuation}]*$', s)\n",
        "\n",
        "def is_hashtag(s: str) -> bool:\n",
        "    # Проверка, является ли слово хэштегом\n",
        "    return not not re.search(r'^#[a-zA-Z]+$', s)\n",
        "\n",
        "def custom_tokenizer(s: str) -> List[str]:    \n",
        "    # Кастомный токенайзер\n",
        "    stopset = set(stopwords.words('english'))\n",
        "\n",
        "    s_new = s.lower()\n",
        "    tokens = TweetTokenizer().tokenize(s_new)\n",
        "    filtered_tokens = filter(lambda x:\n",
        "                             contains_only_latin_letters(x) or \n",
        "                             is_emoji(x) or \n",
        "                             is_hashtag(x), \n",
        "                             tokens)\n",
        "\n",
        "    filtered_tokens = filter(lambda x: x not in stopset, filtered_tokens)\n",
        "\n",
        "    return [SnowballStemmer('english').stem(t) for t in filtered_tokens]\n",
        "  "
      ]
    },
    {
      "attachments": {},
      "cell_type": "markdown",
      "metadata": {},
      "source": [
        "Пояснения:\n",
        "- чтобы матчить строки которые содеражт **только** определенные символы, необходимо добавлять ^ и $ как начало и конец строки. Иначе будет триггериться на первый допустимый символ, а остальные игнорить\n",
        "\n",
        "- эмодзи матчатся по приципу:\n",
        "    - любое количество символов пунктуации\n",
        "    - обязательно одна из скобок (круглых, потому что эмозди с квадратными и фигурными я ни разу не видел)\n",
        "    - любое количество символов пунктуации после матча скобки\n",
        "\n",
        "\n",
        "- делал удаление стопслов отдельно, потому что после очистки могут появиться новые токены-стопслова. И если при этом делать проверку в той же лямбда-функции, то можно пропустить такие случаи и стоп слова все так же заматчатся"
      ]
    },
    {
      "cell_type": "code",
      "execution_count": 37,
      "metadata": {
        "colab": {
          "base_uri": "https://localhost:8080/"
        },
        "id": "vYzPZzf8O6vj",
        "outputId": "b1107f8a-eef7-49f7-8ed3-910be791d645"
      },
      "outputs": [
        {
          "name": "stdout",
          "output_type": "stream",
          "text": [
            "['love', 'paint', ':-)', '#art']\n"
          ]
        }
      ],
      "source": [
        "print(custom_tokenizer('She LOVES painting :-) #art'))"
      ]
    },
    {
      "attachments": {},
      "cell_type": "markdown",
      "metadata": {
        "id": "2S_-ThAf5It4"
      },
      "source": [
        "Продемонстрируйте работу вашей функции на первых десяти текстах в обучающей выборке."
      ]
    },
    {
      "cell_type": "code",
      "execution_count": 38,
      "metadata": {
        "id": "A1fh3_itPz7D"
      },
      "outputs": [
        {
          "name": "stdout",
          "output_type": "stream",
          "text": [
            "bridge%20collapse  Ashes 2015: AustraliaÛªs collapse at Trent Bridge among worst in history: England bundled out Australia for 60 ... http://t.co/t5TrhjUAU0\n",
            "['bridg', 'ash', 'australia', 'collaps', 'trent', 'bridg', 'among', 'worst', 'histori', 'england', 'bundl', 'australia']\n",
            "\n",
            "hail Carol Stream, Illinois GREAT MICHIGAN TECHNIQUE CAMP\n",
            "B1G THANKS TO @bmurph1019 \n",
            "@hail_Youtsey . @termn8r13 \n",
            "#GoBlue #WrestleOn http://t.co/OasKgki6Qj\n",
            "['hail', 'carol', 'stream', 'illinoi', 'great', 'michigan', 'techniqu', 'camp', 'thank', '#goblu', '#wrestleon']\n",
            "\n",
            "police Houston  CNN: Tennessee movie theater shooting suspect killed by police http://t.co/dI8ElZsWNR\n",
            "['polic', 'houston', 'cnn', 'tennesse', 'movi', 'theater', 'shoot', 'suspect', 'kill', 'polic']\n",
            "\n",
            "rioting  Still rioting in a couple of hours left until I have to be up for class.\n",
            "['riot', 'still', 'riot', 'coupl', 'hour', 'left', 'class']\n",
            "\n",
            "wounds Lake Highlands Crack in the path where I wiped out this morning during beach run. Surface wounds on left elbow and right knee. http://t.co/yaqRSximph\n",
            "['wound', 'lake', 'highland', 'crack', 'path', 'wipe', 'morn', 'beach', 'run', 'surfac', 'wound', 'left', 'elbow', 'right', 'knee']\n",
            "\n",
            "airplane%20accident Somewhere Out There Experts in France begin examining airplane debris found on Reunion Island: French air accident experts on... http://t.co/TagZbcXFj0 #MLB\n",
            "['airplan', 'somewher', 'expert', 'franc', 'begin', 'examin', 'airplan', 'debri', 'found', 'reunion', 'island', 'french', 'air', 'accid', 'expert', '#mlb']\n",
            "\n",
            "bloody Isolated City In World Perth 'I came to kill Indians...for FUN': Video of smirking and remorseless Pakistani killer shows him boasting. http://t.co/FPjLwOXKlg\n",
            "['bloodi', 'isol', 'citi', 'world', 'perth', 'came', 'kill', 'indian', 'fun', 'video', 'smirk', 'remorseless', 'pakistani', 'killer', 'show', 'boast']\n",
            "\n",
            "burning  @JohnsonTionne except idk them?? it's really burning ??????\n",
            "['burn', 'except', 'idk', 'realli', 'burn']\n",
            "\n",
            "destroy he/him or she/her (ask) destroy the house\n",
            "['destroy', '(', 'ask', ')', 'destroy', 'hous']\n",
            "\n",
            "wounded Maracay y Nirgua, Venezuela Police Officer Wounded Suspect Dead After Exchanging Shots http://t.co/XxFk4KHbIw\n",
            "['wound', 'maracay', 'nirgua', 'venezuela', 'polic', 'offic', 'wound', 'suspect', 'dead', 'exchang', 'shot']\n",
            "\n"
          ]
        }
      ],
      "source": [
        "first10 = train_new[:10]\n",
        "texts = first10['text'].to_list()\n",
        "tokens = first10['text'].apply(custom_tokenizer).to_list()\n",
        "\n",
        "for text, token in zip(texts, tokens):\n",
        "    print(text, token, '', sep='\\n')"
      ]
    },
    {
      "attachments": {},
      "cell_type": "markdown",
      "metadata": {},
      "source": [
        "Пришлось заюзать `for`, потому что в датафреймах для длинных массивов токенов они схлопываются, поэтому видно не все значения. Простите ((\n",
        "\n",
        "Ну а так действительн видим, что остались либо чистые строки с английскими буквами, либо хэштеги (`#goblu`, `#wrestleton`), либо смайлики: `)`, `(`"
      ]
    },
    {
      "attachments": {},
      "cell_type": "markdown",
      "metadata": {
        "id": "a5lNZ4tb3HvN"
      },
      "source": [
        "## Задание 8 (1 балл)\n",
        "\n",
        "1. Примените CountVectorizer с реализованным выше токенизатором к обучающим и тестовым выборкам.\n"
      ]
    },
    {
      "attachments": {},
      "cell_type": "markdown",
      "metadata": {},
      "source": [
        "Сначала подготовим выборки"
      ]
    },
    {
      "cell_type": "code",
      "execution_count": 39,
      "metadata": {},
      "outputs": [],
      "source": [
        "train_new = fill_and_conc(train)\n",
        "test_new = fill_and_conc(test)\n",
        "\n",
        "y_train, y_test = train_new['target'], test_new['target']\n",
        "\n",
        "train_new.drop('target', axis=1, inplace=True)\n",
        "test_new.drop('target', axis=1, inplace=True)"
      ]
    },
    {
      "cell_type": "code",
      "execution_count": 40,
      "metadata": {
        "id": "LDqixz7QQEbn"
      },
      "outputs": [],
      "source": [
        "vectorizer = CountVectorizer(tokenizer=custom_tokenizer)\n",
        "\n",
        "bow_train = vectorizer.fit_transform(train_new['text'])\n",
        "bow_test = vectorizer.transform(test_new['text'])"
      ]
    },
    {
      "attachments": {},
      "cell_type": "markdown",
      "metadata": {
        "id": "YcetwuEi5ds9"
      },
      "source": [
        "2. Обучите LogisticRegression на полученных признаках.\n"
      ]
    },
    {
      "cell_type": "code",
      "execution_count": 41,
      "metadata": {
        "id": "BVj03QV2QbWl"
      },
      "outputs": [],
      "source": [
        "from sklearn.linear_model import LogisticRegression\n",
        "\n",
        "logreg = LogisticRegression(max_iter=200, random_state=42)\n",
        "\n",
        "logreg.fit(bow_train, y_train);"
      ]
    },
    {
      "attachments": {},
      "cell_type": "markdown",
      "metadata": {
        "id": "6Ch6uz2P5e-T"
      },
      "source": [
        "3. Посчитайте метрику f1-score на тестовых данных."
      ]
    },
    {
      "cell_type": "code",
      "execution_count": 42,
      "metadata": {
        "colab": {
          "base_uri": "https://localhost:8080/"
        },
        "id": "osyC0pdT3cSD",
        "outputId": "cd957d5f-5118-4b7f-d7ba-01bb5a524086"
      },
      "outputs": [
        {
          "name": "stdout",
          "output_type": "stream",
          "text": [
            "Matrix shape: (5329, 10481)\n",
            "F1 Test score: 0.7533584094572812\n"
          ]
        }
      ],
      "source": [
        "from sklearn.metrics import f1_score\n",
        "\n",
        "pred = logreg.predict(bow_test)\n",
        "\n",
        "print('Matrix shape:', bow_train.shape)\n",
        "print('F1 Test score:', f1_score(y_test, pred))"
      ]
    },
    {
      "attachments": {},
      "cell_type": "markdown",
      "metadata": {},
      "source": [
        "Видим, что при этом токенизаторе имеем уже 10к токенов\n",
        "\n",
        "F1-мера получилась 0.753, что пока что такое себе, но в ласт задании это и просят :)"
      ]
    },
    {
      "attachments": {},
      "cell_type": "markdown",
      "metadata": {
        "id": "aFIEYOMZ3HvN"
      },
      "source": [
        "## Задание 9 (1 балл)\n",
        "\n",
        "1. Повторите 8 задание, но с tf-idf векторизатором. Как изменилось качество?\n"
      ]
    },
    {
      "attachments": {},
      "cell_type": "markdown",
      "metadata": {},
      "source": [
        "Так как аналогичные действия (задание 8) будем делать еще несколько раз, для удобства сделаем функцию `fit_and_predict` "
      ]
    },
    {
      "cell_type": "code",
      "execution_count": 43,
      "metadata": {},
      "outputs": [],
      "source": [
        "def fit_and_predict(train: pd.DataFrame, test: pd.DataFrame, vectorizer, quiet: bool = False) -> Tuple[Tuple[int, int], float]:\n",
        "    bow_train = vectorizer.fit_transform(train['text'])\n",
        "    bow_test = vectorizer.transform(test['text'])\n",
        "\n",
        "    logreg = LogisticRegression(max_iter=200, random_state=42)\n",
        "    logreg.fit(bow_train, y_train)\n",
        "\n",
        "    pred = logreg.predict(bow_test)\n",
        "\n",
        "    shape = bow_train.shape\n",
        "    f1 = f1_score(y_test, pred)\n",
        "    \n",
        "    if not quiet:\n",
        "        print('Matrix shape:', shape)\n",
        "        print('F1 Test score:', f1)\n",
        "\n",
        "    return shape, f1"
      ]
    },
    {
      "cell_type": "code",
      "execution_count": 44,
      "metadata": {
        "colab": {
          "base_uri": "https://localhost:8080/"
        },
        "id": "cDqs61hl3ve3",
        "outputId": "fdd72125-dfde-4183-d614-3b0bc9002ada"
      },
      "outputs": [
        {
          "name": "stdout",
          "output_type": "stream",
          "text": [
            "Matrix shape: (5329, 9260)\n",
            "F1 Test score: 0.7418803418803419\n"
          ]
        }
      ],
      "source": [
        "from sklearn.feature_extraction.text import TfidfVectorizer\n",
        "\n",
        "tfidf = TfidfVectorizer(tokenizer=custom_tokenizer)\n",
        "\n",
        "fit_and_predict(train, test, vectorizer=tfidf);"
      ]
    },
    {
      "attachments": {},
      "cell_type": "markdown",
      "metadata": {
        "id": "SXaNclTZSFjO"
      },
      "source": [
        "1. **Ответ:** \n",
        "\n",
        "F1-мера ухудшилась, но не сильно (буквально на одну сотую)\n",
        "\n",
        "Число токенов тоже сократилось, но ненамного (примерно на тысячу). Но если смотреть относительно, то это целых 10% от выборки\n",
        "\n",
        "Трейд 1% качества на 10% прироста производительности звучит в целом нелохо"
      ]
    },
    {
      "attachments": {},
      "cell_type": "markdown",
      "metadata": {
        "id": "CPtk0lCA5POY"
      },
      "source": [
        "2. Мы можем еще сильнее уменьшить размер нашей матрицы, если отбросим значения df близкие к единице. Скорее всего такие слова не несут много информации о категории, так как встречаются достаточно часто. Ограничьте максимальный df в параметрах TfIdfVectorizer, поставьте верхнюю границу равную 0.9. Как изменился размер матрицы, как изменилось качество?\n"
      ]
    },
    {
      "cell_type": "code",
      "execution_count": 45,
      "metadata": {
        "colab": {
          "base_uri": "https://localhost:8080/"
        },
        "id": "EU-MRXyRSHLm",
        "outputId": "6b5353a8-5f3b-4220-fcd4-64eecfe20054"
      },
      "outputs": [
        {
          "name": "stdout",
          "output_type": "stream",
          "text": [
            "Matrix shape: (5329, 9260)\n",
            "F1 Test score: 0.7418803418803419\n"
          ]
        }
      ],
      "source": [
        "tfidf2 = TfidfVectorizer(tokenizer=custom_tokenizer, max_df=0.9)\n",
        "\n",
        "fit_and_predict(train, test, vectorizer=tfidf2);"
      ]
    },
    {
      "attachments": {},
      "cell_type": "markdown",
      "metadata": {
        "id": "4Two_O3rSVmh"
      },
      "source": [
        "2. **Ответ:**\n",
        "\n",
        "Что результат, что число токенов осталось таким же\n",
        "\n",
        "Это связано с тем, что мы предварительно почистили тексты от стоп-слов. То есть слов, которые встречаются буквально в каждом документе ($df=0.9$), практически не осталось\n",
        "\n",
        "Чтобы подобрать параметр `max_df` нужно брать значения поменьше. Попробуем подобрать такое.\n",
        "\n",
        "Для подбора гиперпараметров создадим отдельную функцию. Она перебирает все пары гиперпараметров и выводит метрики для них"
      ]
    },
    {
      "cell_type": "code",
      "execution_count": 46,
      "metadata": {},
      "outputs": [],
      "source": [
        "def test_dfs(min_df_list: Iterable = None, max_df_list: Iterable = None):\n",
        "    f1_scores = []\n",
        "    tokens_num = []\n",
        "    all_mins = []\n",
        "    all_maxs = []\n",
        "    \n",
        "    if min_df_list is None:\n",
        "        min_df_list = [0.0]\n",
        "\n",
        "    if max_df_list is None:\n",
        "        max_df_list = [1.0]\n",
        "\n",
        "    for min_df in min_df_list:\n",
        "        for max_df in max_df_list:\n",
        "\n",
        "            vectorizer = TfidfVectorizer(tokenizer=custom_tokenizer, \n",
        "                                         max_df=max_df, \n",
        "                                         min_df=min_df)\n",
        "            \n",
        "            shape, f1 = fit_and_predict(train, test, vectorizer=vectorizer, quiet=True)\n",
        "\n",
        "            tokens_num.append(shape[1])\n",
        "            f1_scores.append(f1)\n",
        "            all_mins.append(min_df)\n",
        "            all_maxs.append(max_df)\n",
        "\n",
        "    result = pd.DataFrame({'min_df': all_mins,\n",
        "                           'max_df': all_maxs, \n",
        "                           'Tokens': tokens_num, \n",
        "                           'F1 Score': f1_scores})\n",
        "    display(result);"
      ]
    },
    {
      "cell_type": "code",
      "execution_count": 47,
      "metadata": {},
      "outputs": [
        {
          "data": {
            "text/html": [
              "<div>\n",
              "<style scoped>\n",
              "    .dataframe tbody tr th:only-of-type {\n",
              "        vertical-align: middle;\n",
              "    }\n",
              "\n",
              "    .dataframe tbody tr th {\n",
              "        vertical-align: top;\n",
              "    }\n",
              "\n",
              "    .dataframe thead th {\n",
              "        text-align: right;\n",
              "    }\n",
              "</style>\n",
              "<table border=\"1\" class=\"dataframe\">\n",
              "  <thead>\n",
              "    <tr style=\"text-align: right;\">\n",
              "      <th></th>\n",
              "      <th>min_df</th>\n",
              "      <th>max_df</th>\n",
              "      <th>Tokens</th>\n",
              "      <th>F1 Score</th>\n",
              "    </tr>\n",
              "  </thead>\n",
              "  <tbody>\n",
              "    <tr>\n",
              "      <th>0</th>\n",
              "      <td>0.0</td>\n",
              "      <td>0.001</td>\n",
              "      <td>7724</td>\n",
              "      <td>0.446466</td>\n",
              "    </tr>\n",
              "    <tr>\n",
              "      <th>1</th>\n",
              "      <td>0.0</td>\n",
              "      <td>0.005</td>\n",
              "      <td>8941</td>\n",
              "      <td>0.673607</td>\n",
              "    </tr>\n",
              "    <tr>\n",
              "      <th>2</th>\n",
              "      <td>0.0</td>\n",
              "      <td>0.010</td>\n",
              "      <td>9152</td>\n",
              "      <td>0.702026</td>\n",
              "    </tr>\n",
              "    <tr>\n",
              "      <th>3</th>\n",
              "      <td>0.0</td>\n",
              "      <td>0.050</td>\n",
              "      <td>9259</td>\n",
              "      <td>0.743151</td>\n",
              "    </tr>\n",
              "    <tr>\n",
              "      <th>4</th>\n",
              "      <td>0.0</td>\n",
              "      <td>0.100</td>\n",
              "      <td>9260</td>\n",
              "      <td>0.741880</td>\n",
              "    </tr>\n",
              "    <tr>\n",
              "      <th>5</th>\n",
              "      <td>0.0</td>\n",
              "      <td>0.500</td>\n",
              "      <td>9260</td>\n",
              "      <td>0.741880</td>\n",
              "    </tr>\n",
              "  </tbody>\n",
              "</table>\n",
              "</div>"
            ],
            "text/plain": [
              "   min_df  max_df  Tokens  F1 Score\n",
              "0     0.0   0.001    7724  0.446466\n",
              "1     0.0   0.005    8941  0.673607\n",
              "2     0.0   0.010    9152  0.702026\n",
              "3     0.0   0.050    9259  0.743151\n",
              "4     0.0   0.100    9260  0.741880\n",
              "5     0.0   0.500    9260  0.741880"
            ]
          },
          "metadata": {},
          "output_type": "display_data"
        }
      ],
      "source": [
        "test_dfs(max_df_list=[0.001, 0.005, 0.01, 0.05, 0.1, 0.5])"
      ]
    },
    {
      "attachments": {},
      "cell_type": "markdown",
      "metadata": {},
      "source": [
        "Странно, но даже даже при $max\\_df = 0.1$ число токенов не меняется. Наверное, в корпусе слишком много уникальных слов. А при еще меньших значениях качество совсем ухудшается\n",
        "\n",
        "Поэтому стандартное значение `max_df` является в данной задаче самым оптимальным"
      ]
    },
    {
      "attachments": {},
      "cell_type": "markdown",
      "metadata": {
        "id": "VhyjbI5X5QnG"
      },
      "source": [
        "3. Также мы можем уменьшить размер матрицы, удаляя слова со слишком маленьким df. Удалось ли добиться улучшения качества? "
      ]
    },
    {
      "cell_type": "code",
      "execution_count": 48,
      "metadata": {
        "colab": {
          "base_uri": "https://localhost:8080/"
        },
        "id": "9mNpIxv6SfKc",
        "outputId": "607ec22e-1fdb-4c29-bbc4-6447ed266349"
      },
      "outputs": [
        {
          "data": {
            "text/html": [
              "<div>\n",
              "<style scoped>\n",
              "    .dataframe tbody tr th:only-of-type {\n",
              "        vertical-align: middle;\n",
              "    }\n",
              "\n",
              "    .dataframe tbody tr th {\n",
              "        vertical-align: top;\n",
              "    }\n",
              "\n",
              "    .dataframe thead th {\n",
              "        text-align: right;\n",
              "    }\n",
              "</style>\n",
              "<table border=\"1\" class=\"dataframe\">\n",
              "  <thead>\n",
              "    <tr style=\"text-align: right;\">\n",
              "      <th></th>\n",
              "      <th>min_df</th>\n",
              "      <th>max_df</th>\n",
              "      <th>Tokens</th>\n",
              "      <th>F1 Score</th>\n",
              "    </tr>\n",
              "  </thead>\n",
              "  <tbody>\n",
              "    <tr>\n",
              "      <th>0</th>\n",
              "      <td>0.001</td>\n",
              "      <td>1.0</td>\n",
              "      <td>1536</td>\n",
              "      <td>0.742729</td>\n",
              "    </tr>\n",
              "  </tbody>\n",
              "</table>\n",
              "</div>"
            ],
            "text/plain": [
              "   min_df  max_df  Tokens  F1 Score\n",
              "0   0.001     1.0    1536  0.742729"
            ]
          },
          "metadata": {},
          "output_type": "display_data"
        }
      ],
      "source": [
        "test_dfs(min_df_list=[0.001])"
      ]
    },
    {
      "attachments": {},
      "cell_type": "markdown",
      "metadata": {},
      "source": [
        "`min_df` очень тонкий гиперпараметр, его незначительное изменение может сильно поменять число токенов\n",
        "\n",
        "Протестируем это задание для разных значений `min_df` и попробуем найти лучшее\n",
        "\n",
        "Для начала определим порядок"
      ]
    },
    {
      "cell_type": "code",
      "execution_count": 49,
      "metadata": {},
      "outputs": [
        {
          "data": {
            "text/html": [
              "<div>\n",
              "<style scoped>\n",
              "    .dataframe tbody tr th:only-of-type {\n",
              "        vertical-align: middle;\n",
              "    }\n",
              "\n",
              "    .dataframe tbody tr th {\n",
              "        vertical-align: top;\n",
              "    }\n",
              "\n",
              "    .dataframe thead th {\n",
              "        text-align: right;\n",
              "    }\n",
              "</style>\n",
              "<table border=\"1\" class=\"dataframe\">\n",
              "  <thead>\n",
              "    <tr style=\"text-align: right;\">\n",
              "      <th></th>\n",
              "      <th>min_df</th>\n",
              "      <th>max_df</th>\n",
              "      <th>Tokens</th>\n",
              "      <th>F1 Score</th>\n",
              "    </tr>\n",
              "  </thead>\n",
              "  <tbody>\n",
              "    <tr>\n",
              "      <th>0</th>\n",
              "      <td>0.01000</td>\n",
              "      <td>1.0</td>\n",
              "      <td>108</td>\n",
              "      <td>0.631579</td>\n",
              "    </tr>\n",
              "    <tr>\n",
              "      <th>1</th>\n",
              "      <td>0.00100</td>\n",
              "      <td>1.0</td>\n",
              "      <td>1536</td>\n",
              "      <td>0.742729</td>\n",
              "    </tr>\n",
              "    <tr>\n",
              "      <th>2</th>\n",
              "      <td>0.00010</td>\n",
              "      <td>1.0</td>\n",
              "      <td>9260</td>\n",
              "      <td>0.741880</td>\n",
              "    </tr>\n",
              "    <tr>\n",
              "      <th>3</th>\n",
              "      <td>0.00001</td>\n",
              "      <td>1.0</td>\n",
              "      <td>9260</td>\n",
              "      <td>0.741880</td>\n",
              "    </tr>\n",
              "  </tbody>\n",
              "</table>\n",
              "</div>"
            ],
            "text/plain": [
              "    min_df  max_df  Tokens  F1 Score\n",
              "0  0.01000     1.0     108  0.631579\n",
              "1  0.00100     1.0    1536  0.742729\n",
              "2  0.00010     1.0    9260  0.741880\n",
              "3  0.00001     1.0    9260  0.741880"
            ]
          },
          "metadata": {},
          "output_type": "display_data"
        }
      ],
      "source": [
        "test_dfs(min_df_list=[0.01, 0.001, 0.0001, 0.00001])"
      ]
    },
    {
      "attachments": {},
      "cell_type": "markdown",
      "metadata": {},
      "source": [
        "Видим, что есть смысл тестить значения от 1e-3 до 1e-4"
      ]
    },
    {
      "cell_type": "code",
      "execution_count": 50,
      "metadata": {},
      "outputs": [
        {
          "data": {
            "text/html": [
              "<div>\n",
              "<style scoped>\n",
              "    .dataframe tbody tr th:only-of-type {\n",
              "        vertical-align: middle;\n",
              "    }\n",
              "\n",
              "    .dataframe tbody tr th {\n",
              "        vertical-align: top;\n",
              "    }\n",
              "\n",
              "    .dataframe thead th {\n",
              "        text-align: right;\n",
              "    }\n",
              "</style>\n",
              "<table border=\"1\" class=\"dataframe\">\n",
              "  <thead>\n",
              "    <tr style=\"text-align: right;\">\n",
              "      <th></th>\n",
              "      <th>min_df</th>\n",
              "      <th>max_df</th>\n",
              "      <th>Tokens</th>\n",
              "      <th>F1 Score</th>\n",
              "    </tr>\n",
              "  </thead>\n",
              "  <tbody>\n",
              "    <tr>\n",
              "      <th>0</th>\n",
              "      <td>0.0001</td>\n",
              "      <td>1.0</td>\n",
              "      <td>9260</td>\n",
              "      <td>0.741880</td>\n",
              "    </tr>\n",
              "    <tr>\n",
              "      <th>1</th>\n",
              "      <td>0.0003</td>\n",
              "      <td>1.0</td>\n",
              "      <td>4030</td>\n",
              "      <td>0.749153</td>\n",
              "    </tr>\n",
              "    <tr>\n",
              "      <th>2</th>\n",
              "      <td>0.0005</td>\n",
              "      <td>1.0</td>\n",
              "      <td>2788</td>\n",
              "      <td>0.755034</td>\n",
              "    </tr>\n",
              "    <tr>\n",
              "      <th>3</th>\n",
              "      <td>0.0007</td>\n",
              "      <td>1.0</td>\n",
              "      <td>2169</td>\n",
              "      <td>0.750140</td>\n",
              "    </tr>\n",
              "    <tr>\n",
              "      <th>4</th>\n",
              "      <td>0.0009</td>\n",
              "      <td>1.0</td>\n",
              "      <td>1792</td>\n",
              "      <td>0.748884</td>\n",
              "    </tr>\n",
              "  </tbody>\n",
              "</table>\n",
              "</div>"
            ],
            "text/plain": [
              "   min_df  max_df  Tokens  F1 Score\n",
              "0  0.0001     1.0    9260  0.741880\n",
              "1  0.0003     1.0    4030  0.749153\n",
              "2  0.0005     1.0    2788  0.755034\n",
              "3  0.0007     1.0    2169  0.750140\n",
              "4  0.0009     1.0    1792  0.748884"
            ]
          },
          "metadata": {},
          "output_type": "display_data"
        }
      ],
      "source": [
        "test_dfs(min_df_list=np.arange(0.0001, 0.0011, 0.0002))"
      ]
    },
    {
      "attachments": {},
      "cell_type": "markdown",
      "metadata": {
        "id": "imeD8skxSqdg"
      },
      "source": [
        "3. **Ответ:** \n",
        "\n",
        "Видим, что при $min\\_df \\simeq 0.0005$ получили наилучший реузультат в 0.755. Это совсем чуть чуть лучше, чем при аболютно стандартной и примитивной лемматизации\n",
        "\n",
        "Однако я думаю, что подбирать его очень сложно и все зависит от конкретного корпуса текстов. Значение в 0.0005 не является каким-то интуитивным, поэтому этот гиперпараметр является сложным в подборе"
      ]
    },
    {
      "attachments": {},
      "cell_type": "markdown",
      "metadata": {
        "id": "1l1sx4nB3HvN"
      },
      "source": [
        "## Задание 10 (1 балл)\n",
        "\n",
        "Еще один популяпный трюк, который позволит уменьшить количество признаков называется hashing trick. Его суть в том, то мы случайно группируем признаки ииии  ..... складываем их! А потом удаляем исходные признаки. В итоге все наши признаки это просто суммы исходных. Звучит странно, но это отлично работает. Давайте проверим этот трюк в нашем сеттинге.\n",
        "Также при таком подходе вам не нужно хранить словарь token->index, что тоже иногда полезно.\n",
        "\n",
        "1. Повторите задание 8 с HashingVectorizer, укажите количество фичей равное 5000.\n"
      ]
    },
    {
      "cell_type": "code",
      "execution_count": 51,
      "metadata": {
        "colab": {
          "base_uri": "https://localhost:8080/"
        },
        "id": "8qSoW894RXxz",
        "outputId": "720818f4-f774-4273-bb10-918ecc72ef44"
      },
      "outputs": [
        {
          "name": "stdout",
          "output_type": "stream",
          "text": [
            "Matrix shape: (5329, 5000)\n",
            "F1 Test score: 0.7251864601262191\n"
          ]
        }
      ],
      "source": [
        "from sklearn.feature_extraction.text import HashingVectorizer\n",
        "\n",
        "hash_vec = HashingVectorizer(tokenizer=custom_tokenizer, n_features=5000)\n",
        "\n",
        "fit_and_predict(train, test, vectorizer=hash_vec);"
      ]
    },
    {
      "attachments": {},
      "cell_type": "markdown",
      "metadata": {},
      "source": [
        "Как-то слабенько. Мб попробовать другие значения"
      ]
    },
    {
      "cell_type": "code",
      "execution_count": 52,
      "metadata": {},
      "outputs": [
        {
          "data": {
            "text/html": [
              "<div>\n",
              "<style scoped>\n",
              "    .dataframe tbody tr th:only-of-type {\n",
              "        vertical-align: middle;\n",
              "    }\n",
              "\n",
              "    .dataframe tbody tr th {\n",
              "        vertical-align: top;\n",
              "    }\n",
              "\n",
              "    .dataframe thead th {\n",
              "        text-align: right;\n",
              "    }\n",
              "</style>\n",
              "<table border=\"1\" class=\"dataframe\">\n",
              "  <thead>\n",
              "    <tr style=\"text-align: right;\">\n",
              "      <th></th>\n",
              "      <th>Features</th>\n",
              "      <th>F1 Score</th>\n",
              "    </tr>\n",
              "  </thead>\n",
              "  <tbody>\n",
              "    <tr>\n",
              "      <th>0</th>\n",
              "      <td>2000</td>\n",
              "      <td>0.703284</td>\n",
              "    </tr>\n",
              "    <tr>\n",
              "      <th>1</th>\n",
              "      <td>4000</td>\n",
              "      <td>0.707852</td>\n",
              "    </tr>\n",
              "    <tr>\n",
              "      <th>2</th>\n",
              "      <td>6000</td>\n",
              "      <td>0.724605</td>\n",
              "    </tr>\n",
              "    <tr>\n",
              "      <th>3</th>\n",
              "      <td>8000</td>\n",
              "      <td>0.726129</td>\n",
              "    </tr>\n",
              "    <tr>\n",
              "      <th>4</th>\n",
              "      <td>10000</td>\n",
              "      <td>0.731403</td>\n",
              "    </tr>\n",
              "  </tbody>\n",
              "</table>\n",
              "</div>"
            ],
            "text/plain": [
              "   Features  F1 Score\n",
              "0      2000  0.703284\n",
              "1      4000  0.707852\n",
              "2      6000  0.724605\n",
              "3      8000  0.726129\n",
              "4     10000  0.731403"
            ]
          },
          "execution_count": 52,
          "metadata": {},
          "output_type": "execute_result"
        }
      ],
      "source": [
        "nfs = range(2000, 11000, 2000)\n",
        "f1s = []\n",
        "for nf in nfs:\n",
        "    hash_vec = HashingVectorizer(tokenizer=custom_tokenizer, n_features=nf)\n",
        "    _, f1 = fit_and_predict(train, test, vectorizer=hash_vec, quiet=True)\n",
        "    f1s.append(f1)\n",
        "\n",
        "pd.DataFrame({'Features': nfs, 'F1 Score': f1s})"
      ]
    },
    {
      "attachments": {},
      "cell_type": "markdown",
      "metadata": {
        "id": "1C3I4ceg6AG-"
      },
      "source": [
        "2. Какой из подходов показал самый высокий результат?"
      ]
    },
    {
      "attachments": {},
      "cell_type": "markdown",
      "metadata": {
        "id": "_bIfyVlOS9Lu"
      },
      "source": [
        "2. **Ответ:** ну чето хваленый `HashingVectorizer` не сильно крутой. Даже подбирав параметры не получили чего-то крутого. F1 мера самая низкая среди всех предыдущих (0.725 при 5000 фич)\n",
        "\n",
        "Самым лучшим на мой взгляд оказался `TfidfVectorizer` с подобранным гиперпараметрами. У него $F1 \\simeq 0.755$, а также число токенов всего около 3 тысяч. Так смогли найти имбовый баланс между точностью и памятью. Но пришлось посидеть поподбирать гиперпараметры"
      ]
    },
    {
      "attachments": {},
      "cell_type": "markdown",
      "metadata": {
        "id": "zylJ6l0R3HvN"
      },
      "source": [
        "## Задание 11 (1 балл)\n",
        "\n",
        "В этом задании нужно добиться f1 меры хотя в 0.75 на тестовых данных."
      ]
    },
    {
      "attachments": {},
      "cell_type": "markdown",
      "metadata": {},
      "source": [
        "Посмотрев семинар и немного поигравшись с параметрами получил такое оптимальное (больше на целую одну сотую KekW) решение:\n",
        "- Использовать масштабирование признаков (`MaxAbsScaler`, потому что хорош для разреженных матриц)\n",
        "- Использовать токенизатор `word_tokenizer`, не сильно ругающий за пунктуацию, а берущий ее как признак. В данной задаче это может быть применимо потому, что для супер фейковых новостей могут быть использованы, к примеру, куча восклицательных знаков или скобочек\n",
        "- `TfidfVectorizer` как наиболее крутой по результатам тестирований выше. `min_df` также был подогнан"
      ]
    },
    {
      "cell_type": "code",
      "execution_count": 53,
      "metadata": {
        "id": "GSTVApFeS-OY"
      },
      "outputs": [
        {
          "name": "stdout",
          "output_type": "stream",
          "text": [
            "F1 Score = 0.7598488936859147\n"
          ]
        }
      ],
      "source": [
        "from sklearn.preprocessing import MaxAbsScaler\n",
        "from nltk.tokenize import word_tokenize\n",
        "#nltk.download('punkt')\n",
        "\n",
        "scaler = MaxAbsScaler()\n",
        "\n",
        "vect = TfidfVectorizer(tokenizer=word_tokenize, min_df=0.0002)\n",
        "\n",
        "bow_train = vect.fit_transform(train['text'])\n",
        "bow_test = vect.transform(test['text'])\n",
        "\n",
        "bow_train = scaler.fit_transform(bow_train)\n",
        "bow_test = scaler.transform(bow_test)\n",
        "\n",
        "logreg = LogisticRegression(max_iter=200, random_state=42)\n",
        "logreg.fit(bow_train, y_train)\n",
        "\n",
        "pred = logreg.predict(bow_test)\n",
        "print('F1 Score =', f1_score(y_test, pred))"
      ]
    },
    {
      "attachments": {},
      "cell_type": "markdown",
      "metadata": {},
      "source": [
        "Это конечно больше чем 0.75, даже почти 0.76. Не уверен что можно вытрясти что-то большее из данного датасета"
      ]
    }
  ],
  "metadata": {
    "colab": {
      "collapsed_sections": [
        "YlLemInT3HvL",
        "A8CPBUal3HvL"
      ],
      "provenance": []
    },
    "kernelspec": {
      "display_name": "myenv",
      "language": "python",
      "name": "myenv"
    },
    "language_info": {
      "codemirror_mode": {
        "name": "ipython",
        "version": 3
      },
      "file_extension": ".py",
      "mimetype": "text/x-python",
      "name": "python",
      "nbconvert_exporter": "python",
      "pygments_lexer": "ipython3",
      "version": "3.10.6"
    }
  },
  "nbformat": 4,
  "nbformat_minor": 0
}
